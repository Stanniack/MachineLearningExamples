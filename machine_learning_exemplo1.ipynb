{
  "nbformat": 4,
  "nbformat_minor": 0,
  "metadata": {
    "colab": {
      "name": "machine_learning_exemplo1.ipynb",
      "provenance": [],
      "authorship_tag": "ABX9TyO6qVmdkRE4UiYntqkQ/UiM",
      "include_colab_link": true
    },
    "kernelspec": {
      "name": "python3",
      "display_name": "Python 3"
    }
  },
  "cells": [
    {
      "cell_type": "markdown",
      "metadata": {
        "id": "view-in-github",
        "colab_type": "text"
      },
      "source": [
        "<a href=\"https://colab.research.google.com/github/Stanniack/MachineLearningExamples/blob/main/machine_learning_exemplo1.ipynb\" target=\"_parent\"><img src=\"https://colab.research.google.com/assets/colab-badge.svg\" alt=\"Open In Colab\"/></a>"
      ]
    },
    {
      "cell_type": "markdown",
      "metadata": {
        "id": "bSoXjFQsZmnv"
      },
      "source": [
        "database para classificação:"
      ]
    },
    {
      "cell_type": "code",
      "metadata": {
        "id": "bkos715lYQTN"
      },
      "source": [
        "#database\n",
        "# 0 = n, 1 = s\n",
        "# pelo longo?\n",
        "# perna curta?\n",
        "# late?\n",
        "porco1 = [0, 1, 0]\n",
        "porco2 = [1, 1, 0]\n",
        "porco3 = [0, 1, 1]\n",
        "cachorro1 = [0, 1, 1]\n",
        "cachorro2 = [0, 0, 1]\n",
        "cachorro3 = [1, 0, 1]\n",
        "cachorro4 = [1, 1, 1]\n"
      ],
      "execution_count": 6,
      "outputs": []
    },
    {
      "cell_type": "code",
      "metadata": {
        "id": "RCAFZ1ZtaL0A"
      },
      "source": [
        "# porco -> 0 / cachorro -> 1\n",
        "\n",
        "dados = [porco1, porco2, porco3, cachorro1, cachorro2, cachorro3, cachorro4]\n",
        "classes = [0, 0, 0, 1, 1, 1, 1]"
      ],
      "execution_count": 12,
      "outputs": []
    },
    {
      "cell_type": "markdown",
      "metadata": {
        "id": "1e3Fir2-axW4"
      },
      "source": [
        "Algoritmo supervisionado:\n"
      ]
    },
    {
      "cell_type": "code",
      "metadata": {
        "id": "l92v9t6JaVt8",
        "outputId": "ee021492-5f33-474e-aabb-67913c62e4d4",
        "colab": {
          "base_uri": "https://localhost:8080/",
          "height": 84
        }
      },
      "source": [
        "from sklearn.svm import LinearSVC\n",
        "\n",
        "classificador = LinearSVC()\n",
        "# insere os dados para previsão\n",
        "classificador.fit(dados, classes)"
      ],
      "execution_count": 13,
      "outputs": [
        {
          "output_type": "execute_result",
          "data": {
            "text/plain": [
              "LinearSVC(C=1.0, class_weight=None, dual=True, fit_intercept=True,\n",
              "          intercept_scaling=1, loss='squared_hinge', max_iter=1000,\n",
              "          multi_class='ovr', penalty='l2', random_state=None, tol=0.0001,\n",
              "          verbose=0)"
            ]
          },
          "metadata": {
            "tags": []
          },
          "execution_count": 13
        }
      ]
    },
    {
      "cell_type": "code",
      "metadata": {
        "id": "NL7AJ-ZLdD0Z",
        "outputId": "408cc807-62b9-4f97-f771-7070cc0f6d64",
        "colab": {
          "base_uri": "https://localhost:8080/",
          "height": 34
        }
      },
      "source": [
        "#teste de predição\n",
        "animal_misterioso1 = [1, 1, 1]\n",
        "animal_misterioso2 = [0, 0, 0]\n",
        "classificador.predict([animal_misterioso2])"
      ],
      "execution_count": 19,
      "outputs": [
        {
          "output_type": "execute_result",
          "data": {
            "text/plain": [
              "array([0])"
            ]
          },
          "metadata": {
            "tags": []
          },
          "execution_count": 19
        }
      ]
    },
    {
      "cell_type": "code",
      "metadata": {
        "id": "H8s-dEw0er3r"
      },
      "source": [
        "animal_misterioso1 = [0, 0, 0]\n",
        "animal_misterioso2 = [1, 0, 0]\n",
        "animal_misterioso3 = [1, 1, 0]\n",
        "animal_misterioso4 = [1, 1, 1]\n",
        "animal_misterioso5 = [0, 0, 1]\n",
        "animal_misterioso6 = [0, 1, 1]\n",
        "animal_misterioso7 = [0, 1, 0]\n",
        "\n",
        "animais_misteriosos = [animal_misterioso1, animal_misterioso2, animal_misterioso3, animal_misterioso4, animal_misterioso5, animal_misterioso6, animal_misterioso7]\n",
        "previsoes = classificador.predict(animais_misteriosos)"
      ],
      "execution_count": 28,
      "outputs": []
    },
    {
      "cell_type": "markdown",
      "metadata": {
        "id": "0oX-6oaBgtph"
      },
      "source": [
        "Testando eficácia:\n"
      ]
    },
    {
      "cell_type": "code",
      "metadata": {
        "id": "ZrEszj-hgv7b",
        "outputId": "3380b47e-ed59-4797-83e7-ba167fc37dad",
        "colab": {
          "base_uri": "https://localhost:8080/",
          "height": 34
        }
      },
      "source": [
        "# pelo longo?\n",
        "# perna curta?\n",
        "# late?\n",
        "resultado_verdadeiro = [1, 0, 0, 1, 1, 1, 0]\n",
        "\n",
        "previsoes == resultado_verdadeiro\n",
        "\n"
      ],
      "execution_count": 33,
      "outputs": [
        {
          "output_type": "execute_result",
          "data": {
            "text/plain": [
              "array([False, False,  True,  True,  True,  True,  True])"
            ]
          },
          "metadata": {
            "tags": []
          },
          "execution_count": 33
        }
      ]
    },
    {
      "cell_type": "code",
      "metadata": {
        "id": "h_2j_HKsk2JY",
        "outputId": "36932808-fa2c-46e2-bf57-f85a42ce0aea",
        "colab": {
          "base_uri": "https://localhost:8080/",
          "height": 34
        }
      },
      "source": [
        "(previsoes == resultado_verdadeiro).sum()"
      ],
      "execution_count": 41,
      "outputs": [
        {
          "output_type": "execute_result",
          "data": {
            "text/plain": [
              "5"
            ]
          },
          "metadata": {
            "tags": []
          },
          "execution_count": 41
        }
      ]
    },
    {
      "cell_type": "markdown",
      "metadata": {
        "id": "ybLytxMji910"
      },
      "source": [
        "Porcentagem de acerto:\n"
      ]
    },
    {
      "cell_type": "code",
      "metadata": {
        "id": "arDF3OcMi_iC",
        "outputId": "2b6265d1-4fd7-4cca-a887-d751d9ce43cb",
        "colab": {
          "base_uri": "https://localhost:8080/",
          "height": 34
        }
      },
      "source": [
        "resultado = (previsoes == resultado_verdadeiro).sum() / len(animais_misteriosos)\n",
        "print('Total de acerto:', resultado * 100)"
      ],
      "execution_count": 42,
      "outputs": [
        {
          "output_type": "stream",
          "text": [
            "Total de acerto: 71.42857142857143\n"
          ],
          "name": "stdout"
        }
      ]
    }
  ]
}