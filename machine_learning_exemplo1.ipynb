{
  "nbformat": 4,
  "nbformat_minor": 0,
  "metadata": {
    "colab": {
      "name": "machine_learning_exemplo1.ipynb",
      "provenance": [],
      "authorship_tag": "ABX9TyPyTzbygR3YTEvJ145S14I5",
      "include_colab_link": true
    },
    "kernelspec": {
      "name": "python3",
      "display_name": "Python 3"
    }
  },
  "cells": [
    {
      "cell_type": "markdown",
      "metadata": {
        "id": "view-in-github",
        "colab_type": "text"
      },
      "source": [
        "<a href=\"https://colab.research.google.com/github/Stanniack/MachineLearningExamples/blob/main/machine_learning_exemplo1.ipynb\" target=\"_parent\"><img src=\"https://colab.research.google.com/assets/colab-badge.svg\" alt=\"Open In Colab\"/></a>"
      ]
    },
    {
      "cell_type": "code",
      "metadata": {
        "id": "ndpXCuVaXskX"
      },
      "source": [
        "from sklearn.svm import LinearSVC"
      ],
      "execution_count": null,
      "outputs": []
    },
    {
      "cell_type": "markdown",
      "metadata": {
        "id": "bSoXjFQsZmnv"
      },
      "source": [
        "database para classificação"
      ]
    },
    {
      "cell_type": "code",
      "metadata": {
        "id": "bkos715lYQTN"
      },
      "source": [
        "#database\n",
        "# 0 = n, 1 = s\n",
        "# pelo longo?\n",
        "# perna curta?\n",
        "# late?\n",
        "porco1 = [0, 1, 0]\n",
        "porco2 = [1, 1, 0]\n",
        "porco3 = [0, 1, 1]\n",
        "cachorro1 = [0, 1, 1]\n",
        "cachorro2 = [0, 0, 1]\n",
        "cachorro3 = [1, 0, 1]\n",
        "cachorro4 = [1, 1, 1]\n"
      ],
      "execution_count": 4,
      "outputs": []
    },
    {
      "cell_type": "code",
      "metadata": {
        "id": "RCAFZ1ZtaL0A"
      },
      "source": [
        "# porco -> 0 / cachorro -> 1\n",
        "\n",
        "dados = [porco1, porco2, porco3, cachorro1, cachorro2, cachorro3, cachorro4]\n",
        "classes = [1, 1, 1, 0, 0 , 0]"
      ],
      "execution_count": 5,
      "outputs": []
    },
    {
      "cell_type": "markdown",
      "metadata": {
        "id": "1e3Fir2-axW4"
      },
      "source": [
        "Algoritmo supervisionado"
      ]
    },
    {
      "cell_type": "code",
      "metadata": {
        "id": "l92v9t6JaVt8"
      },
      "source": [
        "classificador = LinearSVC()\n",
        "classificador.fit(dados, classes)"
      ],
      "execution_count": null,
      "outputs": []
    }
  ]
}