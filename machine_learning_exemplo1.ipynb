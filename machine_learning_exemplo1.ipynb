{
  "nbformat": 4,
  "nbformat_minor": 0,
  "metadata": {
    "colab": {
      "name": "machine_learning_exemplo1.ipynb",
      "provenance": [],
      "authorship_tag": "ABX9TyPK9Hox8Ea5Pe5nvmbKJ/zD",
      "include_colab_link": true
    },
    "kernelspec": {
      "name": "python3",
      "display_name": "Python 3"
    }
  },
  "cells": [
    {
      "cell_type": "markdown",
      "metadata": {
        "id": "view-in-github",
        "colab_type": "text"
      },
      "source": [
        "<a href=\"https://colab.research.google.com/github/Stanniack/MachineLearningExamples/blob/main/machine_learning_exemplo1.ipynb\" target=\"_parent\"><img src=\"https://colab.research.google.com/assets/colab-badge.svg\" alt=\"Open In Colab\"/></a>"
      ]
    },
    {
      "cell_type": "markdown",
      "metadata": {
        "id": "bSoXjFQsZmnv"
      },
      "source": [
        "database para classificação:"
      ]
    },
    {
      "cell_type": "code",
      "metadata": {
        "id": "bkos715lYQTN"
      },
      "source": [
        "#database\n",
        "# 0 = n, 1 = s\n",
        "# pelo longo?\n",
        "# perna curta?\n",
        "# late?\n",
        "porco1 = [0, 1, 0]\n",
        "porco2 = [1, 1, 0]\n",
        "porco3 = [0, 1, 1]\n",
        "cachorro1 = [0, 1, 1]\n",
        "cachorro2 = [0, 0, 1]\n",
        "cachorro3 = [1, 0, 1]\n",
        "cachorro4 = [1, 1, 1]\n"
      ],
      "execution_count": 6,
      "outputs": []
    },
    {
      "cell_type": "code",
      "metadata": {
        "id": "RCAFZ1ZtaL0A"
      },
      "source": [
        "# porco -> 0 / cachorro -> 1\n",
        "\n",
        "dados = [porco1, porco2, porco3, cachorro1, cachorro2, cachorro3, cachorro4]\n",
        "classes = [0, 0, 0, 1, 1, 1, 1]"
      ],
      "execution_count": 12,
      "outputs": []
    },
    {
      "cell_type": "markdown",
      "metadata": {
        "id": "1e3Fir2-axW4"
      },
      "source": [
        "Algoritmo supervisionado:\n"
      ]
    },
    {
      "cell_type": "code",
      "metadata": {
        "id": "l92v9t6JaVt8",
        "outputId": "ee021492-5f33-474e-aabb-67913c62e4d4",
        "colab": {
          "base_uri": "https://localhost:8080/",
          "height": 84
        }
      },
      "source": [
        "from sklearn.svm import LinearSVC\n",
        "\n",
        "classificador = LinearSVC()\n",
        "# insere os dados para previsão\n",
        "classificador.fit(dados, classes)"
      ],
      "execution_count": 13,
      "outputs": [
        {
          "output_type": "execute_result",
          "data": {
            "text/plain": [
              "LinearSVC(C=1.0, class_weight=None, dual=True, fit_intercept=True,\n",
              "          intercept_scaling=1, loss='squared_hinge', max_iter=1000,\n",
              "          multi_class='ovr', penalty='l2', random_state=None, tol=0.0001,\n",
              "          verbose=0)"
            ]
          },
          "metadata": {
            "tags": []
          },
          "execution_count": 13
        }
      ]
    },
    {
      "cell_type": "code",
      "metadata": {
        "id": "NL7AJ-ZLdD0Z",
        "outputId": "408cc807-62b9-4f97-f771-7070cc0f6d64",
        "colab": {
          "base_uri": "https://localhost:8080/",
          "height": 34
        }
      },
      "source": [
        "#teste de predição\n",
        "animal_misterioso1 = [1, 1, 1]\n",
        "animal_misterioso2 = [0, 0, 0]\n",
        "classificador.predict([animal_misterioso2])"
      ],
      "execution_count": 19,
      "outputs": [
        {
          "output_type": "execute_result",
          "data": {
            "text/plain": [
              "array([0])"
            ]
          },
          "metadata": {
            "tags": []
          },
          "execution_count": 19
        }
      ]
    },
    {
      "cell_type": "code",
      "metadata": {
        "id": "H8s-dEw0er3r"
      },
      "source": [
        "animal_misterioso1 = [0, 0, 0]\n",
        "animal_misterioso2 = [1, 0, 0]\n",
        "animal_misterioso3 = [1, 1, 0]\n",
        "animal_misterioso4 = [1, 1, 1]\n",
        "animal_misterioso5 = [0, 0, 1]\n",
        "animal_misterioso6 = [0, 1, 1]\n",
        "animal_misterioso7 = [0, 1, 0]\n",
        "\n",
        "animais_misteriosos = [animal_misterioso1, animal_misterioso2, animal_misterioso3, animal_misterioso4, animal_misterioso5, animal_misterioso6, animal_misterioso7]\n",
        "previsoes = classificador.predict(animais_misteriosos)"
      ],
      "execution_count": 28,
      "outputs": []
    },
    {
      "cell_type": "markdown",
      "metadata": {
        "id": "0oX-6oaBgtph"
      },
      "source": [
        "Testando eficácia:\n"
      ]
    },
    {
      "cell_type": "code",
      "metadata": {
        "id": "ZrEszj-hgv7b",
        "outputId": "7c9aea0c-fd0d-4fef-f59d-1720a7c8a7e3",
        "colab": {
          "base_uri": "https://localhost:8080/",
          "height": 34
        }
      },
      "source": [
        "# pelo longo?\n",
        "# perna curta?\n",
        "# late?\n",
        "\n",
        "resultado_verdadeiro = [0, 0, 0, 1, 1, 1, 1]\n",
        "\n",
        "previsoes == resultado_verdadeiro\n",
        "\n"
      ],
      "execution_count": 29,
      "outputs": [
        {
          "output_type": "execute_result",
          "data": {
            "text/plain": [
              "array([ True, False,  True,  True,  True,  True, False])"
            ]
          },
          "metadata": {
            "tags": []
          },
          "execution_count": 29
        }
      ]
    }
  ]
}