{
  "nbformat": 4,
  "nbformat_minor": 0,
  "metadata": {
    "colab": {
      "name": "Untitled0.ipynb",
      "provenance": [],
      "authorship_tag": "ABX9TyNnY4gkFQf+bH6eLUMq8qka",
      "include_colab_link": true
    },
    "kernelspec": {
      "name": "python3",
      "display_name": "Python 3"
    }
  },
  "cells": [
    {
      "cell_type": "markdown",
      "metadata": {
        "id": "view-in-github",
        "colab_type": "text"
      },
      "source": [
        "<a href=\"https://colab.research.google.com/github/Stanniack/MachineLearningExamples/blob/main/Machine_Learning_Exemplo4.ipynb\" target=\"_parent\"><img src=\"https://colab.research.google.com/assets/colab-badge.svg\" alt=\"Open In Colab\"/></a>"
      ]
    },
    {
      "cell_type": "code",
      "metadata": {
        "id": "wGmy1vyrDNQo"
      },
      "source": [
        "import pandas as pd\n",
        "url = \"https://raw.githubusercontent.com/alura-cursos/machine-learning-algoritmos-nao-supervisionados/master/movies.csv\"\n",
        "filmes = pd.read_csv(url)\n",
        "\n",
        "troca = {\n",
        "    \"movieId\" : \"id\",\n",
        "    \"title\" : \"titulo\",\n",
        "    \"genres\" : \"generos\"\n",
        "}\n",
        "\n",
        "filmes = filmes.rename(columns = troca)"
      ],
      "execution_count": 6,
      "outputs": []
    }
  ]
}