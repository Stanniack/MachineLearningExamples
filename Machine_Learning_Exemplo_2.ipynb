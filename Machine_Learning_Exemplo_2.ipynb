{
  "nbformat": 4,
  "nbformat_minor": 0,
  "metadata": {
    "colab": {
      "name": "Machine Learning Exemplo 2.ipynb",
      "provenance": [],
      "authorship_tag": "ABX9TyMJbhkpuprRUi7xN/HwHe7c",
      "include_colab_link": true
    },
    "kernelspec": {
      "name": "python3",
      "display_name": "Python 3"
    }
  },
  "cells": [
    {
      "cell_type": "markdown",
      "metadata": {
        "id": "view-in-github",
        "colab_type": "text"
      },
      "source": [
        "<a href=\"https://colab.research.google.com/github/Stanniack/MachineLearningExamples/blob/main/Machine_Learning_Exemplo_2.ipynb\" target=\"_parent\"><img src=\"https://colab.research.google.com/assets/colab-badge.svg\" alt=\"Open In Colab\"/></a>"
      ]
    },
    {
      "cell_type": "markdown",
      "metadata": {
        "id": "8cqy8ipwYfzd"
      },
      "source": [
        "**Descriação: CSV sendo cada linha um usuário de um site: Home, how it works, contact e verificando se o usuário efetuou a compra.**"
      ]
    },
    {
      "cell_type": "markdown",
      "metadata": {
        "id": "k_jpfDqNYF9k"
      },
      "source": [
        "**Importando csv com pandas:**"
      ]
    },
    {
      "cell_type": "code",
      "metadata": {
        "id": "B97bBKvTO7AU"
      },
      "source": [
        "import pandas as pd\n",
        "dados = pd.read_csv('https://gist.githubusercontent.com/guilhermesilveira/2d2efa37d66b6c84a722ea627a897ced/raw/10968b997d885cbded1c92938c7a9912ba41c615/tracking.csv')\n"
      ],
      "execution_count": 50,
      "outputs": []
    },
    {
      "cell_type": "markdown",
      "metadata": {
        "id": "i5PrZSK-YMEQ"
      },
      "source": [
        "Trocando os nomes das variáveis com **map**"
      ]
    },
    {
      "cell_type": "code",
      "metadata": {
        "id": "vEv4khnlWlEF"
      },
      "source": [
        "mapa = {\n",
        "    \"home\" : \"principal\",\n",
        "    \"how_it_works\" : \"como_funciona\",\n",
        "    \"contact\" : \"contato\",\n",
        "    \"bought\" : \"comprou\"\n",
        "}\n",
        "dados = dados.rename(columns = mapa)"
      ],
      "execution_count": 38,
      "outputs": []
    },
    {
      "cell_type": "markdown",
      "metadata": {
        "id": "hXWBTnqJYUmg"
      },
      "source": [
        "**Atribuindo as variáveis com função x**"
      ]
    },
    {
      "cell_type": "code",
      "metadata": {
        "id": "xsa0V9heVw02",
        "outputId": "43cbc7ac-f246-40aa-b896-be5bc1b02ffb",
        "colab": {
          "base_uri": "https://localhost:8080/",
          "height": 195
        }
      },
      "source": [
        "x = dados[[\"principal\", \"como_funciona\", \"contato\"]]\n",
        "x.head()"
      ],
      "execution_count": 39,
      "outputs": [
        {
          "output_type": "execute_result",
          "data": {
            "text/html": [
              "<div>\n",
              "<style scoped>\n",
              "    .dataframe tbody tr th:only-of-type {\n",
              "        vertical-align: middle;\n",
              "    }\n",
              "\n",
              "    .dataframe tbody tr th {\n",
              "        vertical-align: top;\n",
              "    }\n",
              "\n",
              "    .dataframe thead th {\n",
              "        text-align: right;\n",
              "    }\n",
              "</style>\n",
              "<table border=\"1\" class=\"dataframe\">\n",
              "  <thead>\n",
              "    <tr style=\"text-align: right;\">\n",
              "      <th></th>\n",
              "      <th>principal</th>\n",
              "      <th>como_funciona</th>\n",
              "      <th>contato</th>\n",
              "    </tr>\n",
              "  </thead>\n",
              "  <tbody>\n",
              "    <tr>\n",
              "      <th>0</th>\n",
              "      <td>1</td>\n",
              "      <td>1</td>\n",
              "      <td>0</td>\n",
              "    </tr>\n",
              "    <tr>\n",
              "      <th>1</th>\n",
              "      <td>1</td>\n",
              "      <td>1</td>\n",
              "      <td>0</td>\n",
              "    </tr>\n",
              "    <tr>\n",
              "      <th>2</th>\n",
              "      <td>1</td>\n",
              "      <td>1</td>\n",
              "      <td>0</td>\n",
              "    </tr>\n",
              "    <tr>\n",
              "      <th>3</th>\n",
              "      <td>1</td>\n",
              "      <td>1</td>\n",
              "      <td>0</td>\n",
              "    </tr>\n",
              "    <tr>\n",
              "      <th>4</th>\n",
              "      <td>1</td>\n",
              "      <td>1</td>\n",
              "      <td>0</td>\n",
              "    </tr>\n",
              "  </tbody>\n",
              "</table>\n",
              "</div>"
            ],
            "text/plain": [
              "   principal  como_funciona  contato\n",
              "0          1              1        0\n",
              "1          1              1        0\n",
              "2          1              1        0\n",
              "3          1              1        0\n",
              "4          1              1        0"
            ]
          },
          "metadata": {
            "tags": []
          },
          "execution_count": 39
        }
      ]
    },
    {
      "cell_type": "markdown",
      "metadata": {
        "id": "5mW8QoN6YdTR"
      },
      "source": [
        "**Atribuindo as variáveis com função y**"
      ]
    },
    {
      "cell_type": "code",
      "metadata": {
        "id": "RcXMO7O1V-i0"
      },
      "source": [
        "y = dados[[\"comprou\"]]"
      ],
      "execution_count": 41,
      "outputs": []
    },
    {
      "cell_type": "markdown",
      "metadata": {
        "id": "GGwuysO3a0E8"
      },
      "source": [
        "**Base de treino e testes**\n",
        "\n",
        "\n",
        "\n",
        "\n",
        "\n",
        "\n",
        "\n",
        "\n",
        "\n",
        "\n"
      ]
    },
    {
      "cell_type": "code",
      "metadata": {
        "id": "QNKGFKNebOe1"
      },
      "source": [
        "treino_x = x[:75]\n",
        "treino_y = y[:75]\n",
        "\n",
        "teste_x = x[75:]\n",
        "teste_y = y[75:]"
      ],
      "execution_count": 45,
      "outputs": []
    },
    {
      "cell_type": "markdown",
      "metadata": {
        "id": "gPk8McCQd8gc"
      },
      "source": [
        "**Predição e acurácia**"
      ]
    },
    {
      "cell_type": "code",
      "metadata": {
        "id": "49sa3ZEAeAmK",
        "outputId": "ca93eaba-6958-42ef-f654-56406dce3016",
        "colab": {
          "base_uri": "https://localhost:8080/",
          "height": 87
        }
      },
      "source": [
        "from sklearn.svm import LinearSVC\n",
        "from sklearn.metrics import accuracy_score\n",
        "\n",
        "#treinamento\n",
        "classificadorSVM = LinearSVC()\n",
        "classificadorSVM.fit(treino_x, treino_y)\n",
        "previsoes_teste_x = classificadorSVM.predict(teste_x)\n",
        "\n",
        "resultado_acuracia = accuracy_score(teste_y, previsoes_teste_x) * 100\n",
        "\n",
        "print(\"Eficiência: %.2f%\" % resultado_acuracia)"
      ],
      "execution_count": 68,
      "outputs": [
        {
          "output_type": "stream",
          "text": [
            "Eficiência: 95.83\n"
          ],
          "name": "stdout"
        },
        {
          "output_type": "stream",
          "text": [
            "/usr/local/lib/python3.6/dist-packages/sklearn/utils/validation.py:760: DataConversionWarning: A column-vector y was passed when a 1d array was expected. Please change the shape of y to (n_samples, ), for example using ravel().\n",
            "  y = column_or_1d(y, warn=True)\n"
          ],
          "name": "stderr"
        }
      ]
    }
  ]
}